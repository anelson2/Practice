{
 "cells": [
  {
   "cell_type": "markdown",
   "metadata": {
    "deletable": true,
    "editable": true
   },
   "source": [
    "# <span style=\"color:seagreen;\">Bi 410/510 Python Practice Exercises</span>"
   ]
  },
  {
   "cell_type": "markdown",
   "metadata": {
    "deletable": true,
    "editable": true
   },
   "source": [
    "##### Due 4:45 P.M. March 22, 2017"
   ]
  },
  {
   "cell_type": "markdown",
   "metadata": {
    "deletable": true,
    "editable": true
   },
   "source": [
    "###  <span style=\"color:seagreen\">Group Project</span>"
   ]
  },
  {
   "cell_type": "markdown",
   "metadata": {
    "deletable": true,
    "editable": true
   },
   "source": [
    "For this project you are encouraged to work in a small group.\n",
    "* groups can have two or three people\n",
    "* only one person needs to upload the project to Canvas\n",
    "* write the names of every person in the group in the cell below\n",
    "* everyone in the group will receive the same score"
   ]
  },
  {
   "cell_type": "markdown",
   "metadata": {
    "deletable": true,
    "editable": true
   },
   "source": [
    "#### Group Members "
   ]
  },
  {
   "cell_type": "markdown",
   "metadata": {
    "deletable": true,
    "editable": true
   },
   "source": [
    "1:\n",
    "\n",
    "2:\n",
    "\n",
    "3:"
   ]
  },
  {
   "cell_type": "markdown",
   "metadata": {
    "deletable": true,
    "editable": true
   },
   "source": [
    "###  <span style=\"color:seagreen\">Project Summaries</span>"
   ]
  },
  {
   "cell_type": "markdown",
   "metadata": {
    "deletable": true,
    "editable": true
   },
   "source": [
    "Each section in this notebook has a description of a Python function followed by code cells where you can implement and test the function.  Complete as many of these function definitions as you can.  We will give partial credit, so even if a function is not working completely you can receive points for the part you complete.\n",
    "\n",
    "Here is a brief summary of each project:\n",
    "\n",
    "**Genetic Code** &nbsp; Read genetic codes from a TSV file, return a dictionary that maps a codon to its amino acid letter\n",
    "\n",
    "**Translate** &nbsp; Use the genetic code to translate a DNA string into an amino acid string \n",
    "\n",
    "**Reverse Complement** &nbsp; given a string of DNA letters return its reverse complement\n",
    "  \n",
    "**ORF** &nbsp; translate a string of DNA letters six different ways\n",
    "\n",
    "**Random Base** &nbsp; given a single DNA letter return any one of the other three letters\n",
    "\n",
    "**Mutate** &nbsp; return a copy of a string of DNA letters with random changes\n",
    "\n",
    "**Differences** &nbsp; compare two DNA strings codon by codon to look for \"synonymous\" and \"nonsynonymous\" differences based on the genetic code\n",
    "\n",
    "**Splice** &nbsp; remove specified substrings from a string of DNA letters\n",
    "\n",
    "**Mode** &nbsp; find the most common item in a list\n",
    "\n",
    "**Drift** &nbsp; simulate genetic drift\n"
   ]
  },
  {
   "cell_type": "markdown",
   "metadata": {
    "deletable": true,
    "editable": true
   },
   "source": [
    "### Coin Toss "
   ]
  },
  {
   "cell_type": "markdown",
   "metadata": {
    "deletable": true,
    "editable": true
   },
   "source": [
    "This code was added during lecture on Mar 1:  use Python to simulate a coin toss to figure out which project to work on today."
   ]
  },
  {
   "cell_type": "code",
   "execution_count": 1,
   "metadata": {
    "collapsed": true,
    "deletable": true,
    "editable": true
   },
   "outputs": [],
   "source": [
    "import random"
   ]
  },
  {
   "cell_type": "code",
   "execution_count": 6,
   "metadata": {
    "collapsed": false,
    "deletable": true,
    "editable": true
   },
   "outputs": [
    {
     "data": {
      "text/plain": [
       "0.6281444451744409"
      ]
     },
     "execution_count": 6,
     "metadata": {},
     "output_type": "execute_result"
    }
   ],
   "source": [
    "random.random()"
   ]
  },
  {
   "cell_type": "markdown",
   "metadata": {
    "deletable": true,
    "editable": true
   },
   "source": [
    "Method 1:  use an `if` statement"
   ]
  },
  {
   "cell_type": "code",
   "execution_count": 8,
   "metadata": {
    "collapsed": true,
    "deletable": true,
    "editable": true
   },
   "outputs": [],
   "source": [
    "if random.random() < 0.5:\n",
    "    coin = 'drift'\n",
    "else:\n",
    "    coin = 'orf'"
   ]
  },
  {
   "cell_type": "code",
   "execution_count": 9,
   "metadata": {
    "collapsed": false,
    "deletable": true,
    "editable": true
   },
   "outputs": [
    {
     "name": "stdout",
     "output_type": "stream",
     "text": [
      "orf\n"
     ]
    }
   ],
   "source": [
    "print(coin)"
   ]
  },
  {
   "cell_type": "markdown",
   "metadata": {
    "deletable": true,
    "editable": true
   },
   "source": [
    "Method 2: use an **if expression** (a common idiom, shorter and more readable):"
   ]
  },
  {
   "cell_type": "code",
   "execution_count": 10,
   "metadata": {
    "collapsed": true,
    "deletable": true,
    "editable": true
   },
   "outputs": [],
   "source": [
    "coin = 'drift' if random.random() < 0.5 else 'orf'"
   ]
  },
  {
   "cell_type": "code",
   "execution_count": 11,
   "metadata": {
    "collapsed": false,
    "deletable": true,
    "editable": true
   },
   "outputs": [
    {
     "name": "stdout",
     "output_type": "stream",
     "text": [
      "drift\n"
     ]
    }
   ],
   "source": [
    "print(coin)"
   ]
  },
  {
   "cell_type": "markdown",
   "metadata": {
    "deletable": true,
    "editable": true
   },
   "source": [
    "###  <span style=\"color:seagreen\">A Note About Testing</span>"
   ]
  },
  {
   "cell_type": "markdown",
   "metadata": {
    "deletable": true,
    "editable": true
   },
   "source": [
    "For each of the problems we've provided the `def` statement and, in some cases, some additional code.  Your job is to fill in the body of the function.\n",
    "\n",
    "The notebook also has an empty code cell below each function definition.  We encourage you to use this \"sandbox\" to test your function -- type in expressions that call your function, and check the results to see if they are what you expect.\n",
    "\n",
    "You can add additional code cells if you want, and you can use these cells for any purpose.  For example, if you're not sure how to read data from a CSV file, write a `for` loop in a cell and experiment with loops.\n",
    "\n",
    "The cells described as **autograder test cells** have some additional tests.  If you execute the code in one of these cells and nothing happens it's good news: it means your function passes the test."
   ]
  },
  {
   "cell_type": "markdown",
   "metadata": {
    "deletable": true,
    "editable": true
   },
   "source": [
    "### <span style=\"color:seagreen\">1. &nbsp; Genetic Code</span>"
   ]
  },
  {
   "cell_type": "markdown",
   "metadata": {
    "deletable": true,
    "editable": true
   },
   "source": [
    "Fill in the body of the `read_code` method below so it creates a dictionary that maps codons (three-letter DNA strings) into amino acid letters.  The argument passed to the function will be the name of a CSV file with two items per line, a codon and the corresponding amino acid:\n",
    "```\n",
    "TTT,F\n",
    "TTC,F\n",
    "TTA,L\n",
    "TTG,L\n",
    "TCT,S\n",
    "etc\n",
    "```\n",
    "Note: stop codons are included, and are translated into asterisks.\n",
    "\n",
    "Download the genetic code file from Canvas and save it in the same folder as this notebook.  This statement shows how to call the function and save the code as a dictionary named `gc`:\n",
    "```\n",
    ">>> gc = read_code('genetic_code.csv')\n",
    "```\n",
    "\n",
    "Now you can try looking up some codons:\n",
    "```\n",
    ">>> code['TTG']\n",
    "'W'\n",
    "```"
   ]
  },
  {
   "cell_type": "markdown",
   "metadata": {
    "deletable": true,
    "editable": true
   },
   "source": [
    "#### Solution "
   ]
  },
  {
   "cell_type": "code",
   "execution_count": 94,
   "metadata": {
    "collapsed": true,
    "deletable": false,
    "editable": true,
    "nbgrader": {
     "checksum": "afccc3d456b5c70a4fcebfc2872ee7e2",
     "grade": true,
     "grade_id": "read_code",
     "locked": false,
     "points": 5,
     "solution": true
    }
   },
   "outputs": [],
   "source": [
    "# This code was adapted from the February 1 lecture notes\n",
    "\n",
    "def read_code(fn):\n",
    "    tbl = { }\n",
    "    for line in open(fn):\n",
    "        rec = line.strip().split(',')\n",
    "        tbl[rec[0]] = rec[1]\n",
    "    return tbl\n"
   ]
  },
  {
   "cell_type": "markdown",
   "metadata": {
    "deletable": true,
    "editable": true
   },
   "source": [
    "Use the code cells below as a \"sandbox\" to test your function.  "
   ]
  },
  {
   "cell_type": "code",
   "execution_count": null,
   "metadata": {
    "collapsed": true,
    "deletable": true,
    "editable": true
   },
   "outputs": [],
   "source": []
  },
  {
   "cell_type": "markdown",
   "metadata": {
    "collapsed": true,
    "deletable": true,
    "editable": true
   },
   "source": [
    "**Autograder Test** &nbsp; Do not delete the following cell."
   ]
  },
  {
   "cell_type": "code",
   "execution_count": 95,
   "metadata": {
    "collapsed": false,
    "deletable": false,
    "editable": true,
    "nbgrader": {
     "checksum": "c5362ebd63ff85f475f0dfd10292488f",
     "grade": true,
     "grade_id": "read_code_test",
     "locked": true,
     "points": 5,
     "solution": false
    }
   },
   "outputs": [],
   "source": [
    "dct = read_code('genetic_code.csv')\n",
    "assert len(dct) == 64\n",
    "assert dct['ATG'] == 'M'\n",
    "assert dct['TAG'] == '*'"
   ]
  },
  {
   "cell_type": "markdown",
   "metadata": {
    "deletable": true,
    "editable": true
   },
   "source": [
    "### <span style=\"color:seagreen\">2. &nbsp; Translate</span>"
   ]
  },
  {
   "cell_type": "markdown",
   "metadata": {
    "deletable": true,
    "editable": true
   },
   "source": [
    "Fill in the body of the `translate` method so it translates a DNA string 3 letters at a time and returns the corresponding amino acid string.  The two arguments passed to the function are the string to translate and the genetic code to use (the dictionary created by calling `read_code`).\n",
    "\n",
    "Assuming `gc` refers to the genetic code dictionary made above, these statements show examples of how to call `translate` and the results you should get back:\n",
    "```\n",
    ">>> translate('TTCATAAGCCAT', gc)\n",
    "'FISH'\n",
    "\n",
    ">>> translate('TTCXXXAGCCA', gc)\n",
    "'F_S_'\n",
    "```\n",
    "The last example shows that codons with non-DNA letters and partial codons are replaced by underscores. "
   ]
  },
  {
   "cell_type": "markdown",
   "metadata": {
    "deletable": true,
    "editable": true
   },
   "source": [
    "#### Solution "
   ]
  },
  {
   "cell_type": "code",
   "execution_count": 3047,
   "metadata": {
    "collapsed": false,
    "deletable": false,
    "editable": true,
    "nbgrader": {
     "checksum": "140737001729728112cf97c33d28ec99",
     "grade": true,
     "grade_id": "translate",
     "locked": false,
     "points": 5,
     "solution": true
    }
   },
   "outputs": [],
   "source": [
    "def translate(seq, code):\n",
    "    codon = ''\n",
    "    for i in range(0,len(seq),3):\n",
    "        if seq[i:i+3] not in code:\n",
    "                codon = codon + '_'\n",
    "        else:\n",
    "            codon = codon + code[seq[i:i+3]]\n",
    "    return codon\n",
    "                \n",
    "                \n",
    "    \n"
   ]
  },
  {
   "cell_type": "markdown",
   "metadata": {
    "deletable": true,
    "editable": true
   },
   "source": [
    "You can use the code cell below to run some of your own tests."
   ]
  },
  {
   "cell_type": "code",
   "execution_count": 517,
   "metadata": {
    "collapsed": false,
    "deletable": true,
    "editable": true
   },
   "outputs": [
    {
     "data": {
      "text/plain": [
       "'M_K_'"
      ]
     },
     "execution_count": 517,
     "metadata": {},
     "output_type": "execute_result"
    }
   ],
   "source": [
    "dct = read_code('genetic_code.csv')\n",
    "translate(\"ATGXXXAAAT\", dct)"
   ]
  },
  {
   "cell_type": "markdown",
   "metadata": {
    "collapsed": true,
    "deletable": true,
    "editable": true
   },
   "source": [
    "**Autograder Test** &nbsp; Do not delete the following cell."
   ]
  },
  {
   "cell_type": "code",
   "execution_count": 414,
   "metadata": {
    "collapsed": false,
    "deletable": false,
    "editable": true,
    "nbgrader": {
     "checksum": "6ab308a2c09390ff7fadb8230c3c0e36",
     "grade": true,
     "grade_id": "translate_test",
     "locked": true,
     "points": 5,
     "solution": false
    }
   },
   "outputs": [],
   "source": [
    "dct = read_code('genetic_code.csv')\n",
    "assert translate('ATGCTCAAGTAG', dct) == 'MLK*'\n",
    "assert translate('ATGXXXAAAT', dct) == 'M_K_'"
   ]
  },
  {
   "cell_type": "markdown",
   "metadata": {
    "deletable": true,
    "editable": true
   },
   "source": [
    "### <span style=\"color:seagreen\">3. &nbsp; Reverse Complement</span>"
   ]
  },
  {
   "cell_type": "markdown",
   "metadata": {
    "deletable": true,
    "editable": true
   },
   "source": [
    "The function named `reverse_complement` will be passed a string containing DNA letters.  The return value should be a string with the reverse complement of the input string (each letter is replaced by its complement and the string is in reverse order).\n",
    "You can assume all the letters in the input string are valid DNA letters.\n",
    "\n",
    "Example:\n",
    "```\n",
    ">>> s = 'ATGTAC'\n",
    "\n",
    ">>> reverse_complement(s)\n",
    "'GTACAT'\n",
    "\n",
    ">>> reverse_complement(reverse_complement(s))\n",
    "'ATGTAC'\n",
    "```\n",
    "\n",
    "Hint: a negative number in an index expression is a distance from the end of the string, so `s[-i]` is the character `i` locations from the end of `s`.  How can you use this fact to read the DNA letters in `s` in reverse order?"
   ]
  },
  {
   "cell_type": "markdown",
   "metadata": {
    "deletable": true,
    "editable": true
   },
   "source": [
    "To Do:\n",
    "* ~~write prototype that returns the reverse of a string~~\n",
    "* write loop that iterates over string, computes complement\n",
    "* add complement to output string"
   ]
  },
  {
   "cell_type": "markdown",
   "metadata": {
    "deletable": true,
    "editable": true
   },
   "source": [
    "#### Solution "
   ]
  },
  {
   "cell_type": "code",
   "execution_count": 3068,
   "metadata": {
    "collapsed": false,
    "deletable": false,
    "editable": true,
    "nbgrader": {
     "checksum": "e2e54934893589a487fbb51b3bef8fa9",
     "grade": true,
     "grade_id": "revcomp",
     "locked": false,
     "points": 5,
     "solution": true
    }
   },
   "outputs": [],
   "source": [
    "comp = { 'A' : 'T', 'T' : 'A', 'C' : 'G', 'G' : 'C' }\n",
    "\n",
    "# Updated Mar 1:  this is a \"stub\" created so we can test the reverse_complement\n",
    "# function.  For now just return the reverse string, later we'll find the \n",
    "# complement of each letter.\n",
    "rvs = []\n",
    "def reverse_complement(s):\n",
    "    lst = list(s)\n",
    "    lst.reverse()\n",
    "    for ch in lst:\n",
    "        if ch not in comp:\n",
    "            return \"unusable code\"\n",
    "        else:\n",
    "            i = comp[ch]\n",
    "            rvs.append(i)\n",
    "    return''.join(rvs)\n",
    "            \n",
    "            \n"
   ]
  },
  {
   "cell_type": "markdown",
   "metadata": {
    "deletable": true,
    "editable": true
   },
   "source": [
    "Use this code cell to test your function."
   ]
  },
  {
   "cell_type": "code",
   "execution_count": 2406,
   "metadata": {
    "collapsed": false,
    "deletable": true,
    "editable": true
   },
   "outputs": [
    {
     "data": {
      "text/plain": [
       "'unusable code'"
      ]
     },
     "execution_count": 2406,
     "metadata": {},
     "output_type": "execute_result"
    }
   ],
   "source": [
    "reverse_complement('hello')"
   ]
  },
  {
   "cell_type": "markdown",
   "metadata": {
    "collapsed": true,
    "deletable": true,
    "editable": true
   },
   "source": [
    "**Autograder Test** &nbsp; Do not delete the following cell."
   ]
  },
  {
   "cell_type": "code",
   "execution_count": 2407,
   "metadata": {
    "collapsed": false,
    "deletable": false,
    "editable": true,
    "nbgrader": {
     "checksum": "49e13276094b611074ca72d1697522f2",
     "grade": true,
     "grade_id": "revcomp_test",
     "locked": true,
     "points": 5,
     "solution": false
    }
   },
   "outputs": [],
   "source": [
    "assert reverse_complement('AATTCCGG') == 'CCGGAATT'"
   ]
  },
  {
   "cell_type": "markdown",
   "metadata": {
    "deletable": true,
    "editable": true
   },
   "source": [
    "### <span style=\"color:seagreen\">4. &nbsp; ORFs</span>"
   ]
  },
  {
   "cell_type": "markdown",
   "metadata": {
    "deletable": true,
    "editable": true
   },
   "source": [
    "Fill in the definition of the `orfs` function below so it returns a list of possible translations of a DNA string (the name \"orf\" stands for \"open reading frame\") using a genetic code dictionary.\n",
    "\n",
    "There are six ways to translate a piece of DNA.  The translation could start at base 0, 1, or 2, giving three different translations in the forward direction (a translation starting at a location after that would give the same string once the translation starts).  The remaining three ORFs are based on translating the reverse complement starting at bases 0, 1, or 2.\n",
    "\n",
    "The input to the function will be a string of DNA letters.  Return a list will all 6 possible translations.\n",
    "\n",
    "For full credit you should complete the `reverse_translate` problem first so you can call that function from `orfs`.  You can receive partial credit if your `orfs` function just returns the three translations in the forward direction.\n",
    "\n",
    "Example (assuming `gc` is a dictionary with genetic codes):\n",
    "```\n",
    ">>> orfs('ATGCTCAAGTAG', gc)\n",
    "['MLK*', 'CSS_', 'AQV_', 'LLEH', 'YLS_', 'T*A_']\n",
    "```"
   ]
  },
  {
   "cell_type": "markdown",
   "metadata": {
    "deletable": true,
    "editable": true
   },
   "source": [
    "To do:\n",
    "* implement read_code\n",
    "* ~~iterate over DNA, extract codons~~\n",
    "* ~~iterate again, with frame shifts~~\n",
    "* implement reverse_comp\n",
    "* repeat above, with rc\n",
    "* collect results to pass back"
   ]
  },
  {
   "cell_type": "markdown",
   "metadata": {
    "deletable": true,
    "editable": true
   },
   "source": [
    "#### Solution "
   ]
  },
  {
   "cell_type": "code",
   "execution_count": 3072,
   "metadata": {
    "collapsed": false,
    "deletable": false,
    "editable": true,
    "nbgrader": {
     "checksum": "cd7e0d38bcdc9374874f9aad83505870",
     "grade": true,
     "grade_id": "orfs",
     "locked": false,
     "points": 5,
     "solution": true
    }
   },
   "outputs": [],
   "source": [
    "def orfs(dna, gc):\n",
    "    #lst = list(dna)\n",
    "    #lst.reverse()\n",
    "    #rdna = ''.join(lst)\n",
    "    code = ''\n",
    "    lst = []\n",
    "    lst1 = []\n",
    "    lst2 = []\n",
    "    rdna = reverse_complement(dna)\n",
    "    print(dna,rdna)\n",
    "    for s in (dna, rdna):\n",
    "        for i in range(0,len(s),3):\n",
    "            orf1 = s[i:i+3]\n",
    "            orf2 = s[i+1:i+4]\n",
    "            orf3 = s[i+2:i+5]\n",
    "\n",
    "            for x in (orf1,orf2,orf3):\n",
    "                a = translate(x,gc)\n",
    "            lst.append(a)\n",
    "        d = \"\".join(lst)\n",
    "        lst2.append(d)\n",
    "            #b = translate(orf2,gc)\n",
    "                #c = translate(orf3,gc)\n",
    "    return lst2\n",
    "               \n",
    "                \n",
    "\n",
    "        \n",
    "\n",
    "\n",
    "\n"
   ]
  },
  {
   "cell_type": "markdown",
   "metadata": {
    "deletable": true,
    "editable": true
   },
   "source": [
    "Use this code cell to test your function."
   ]
  },
  {
   "cell_type": "code",
   "execution_count": 3073,
   "metadata": {
    "collapsed": true,
    "deletable": true,
    "editable": true
   },
   "outputs": [],
   "source": [
    "ts = 'ATGCTCAAGTAG'"
   ]
  },
  {
   "cell_type": "code",
   "execution_count": 3074,
   "metadata": {
    "collapsed": false,
    "deletable": true,
    "editable": true
   },
   "outputs": [
    {
     "name": "stdout",
     "output_type": "stream",
     "text": [
      "ATGCTCAAGTAG CTACTTGAGCATCTACTTGAGCAT\n"
     ]
    },
    {
     "data": {
      "text/plain": [
       "['AQV_', 'AQV_T*AST*A_']"
      ]
     },
     "execution_count": 3074,
     "metadata": {},
     "output_type": "execute_result"
    }
   ],
   "source": [
    "orfs(ts,dct)"
   ]
  },
  {
   "cell_type": "code",
   "execution_count": 30,
   "metadata": {
    "collapsed": false,
    "deletable": true,
    "editable": true
   },
   "outputs": [],
   "source": [
    "lst = list(ts)"
   ]
  },
  {
   "cell_type": "code",
   "execution_count": 31,
   "metadata": {
    "collapsed": true,
    "deletable": true,
    "editable": true
   },
   "outputs": [],
   "source": [
    "lst.reverse()"
   ]
  },
  {
   "cell_type": "code",
   "execution_count": 32,
   "metadata": {
    "collapsed": true,
    "deletable": true,
    "editable": true
   },
   "outputs": [],
   "source": [
    "rts = ''.join(lst)"
   ]
  },
  {
   "cell_type": "code",
   "execution_count": 33,
   "metadata": {
    "collapsed": false,
    "deletable": true,
    "editable": true
   },
   "outputs": [
    {
     "data": {
      "text/plain": [
       "'TACCGAATACTT'"
      ]
     },
     "execution_count": 33,
     "metadata": {},
     "output_type": "execute_result"
    }
   ],
   "source": [
    "rts"
   ]
  },
  {
   "cell_type": "code",
   "execution_count": 25,
   "metadata": {
    "collapsed": false,
    "deletable": true,
    "editable": true
   },
   "outputs": [
    {
     "data": {
      "text/plain": [
       "12"
      ]
     },
     "execution_count": 25,
     "metadata": {},
     "output_type": "execute_result"
    }
   ],
   "source": [
    "len(ts)"
   ]
  },
  {
   "cell_type": "code",
   "execution_count": 26,
   "metadata": {
    "collapsed": false,
    "deletable": true,
    "editable": true
   },
   "outputs": [
    {
     "ename": "IndexError",
     "evalue": "string index out of range",
     "output_type": "error",
     "traceback": [
      "\u001b[0;31m---------------------------------------------------------------------------\u001b[0m",
      "\u001b[0;31mIndexError\u001b[0m                                Traceback (most recent call last)",
      "\u001b[0;32m<ipython-input-26-a158ff224a48>\u001b[0m in \u001b[0;36m<module>\u001b[0;34m()\u001b[0m\n\u001b[0;32m----> 1\u001b[0;31m \u001b[0mts\u001b[0m\u001b[0;34m[\u001b[0m\u001b[0;36m20\u001b[0m\u001b[0;34m]\u001b[0m\u001b[0;34m\u001b[0m\u001b[0m\n\u001b[0m",
      "\u001b[0;31mIndexError\u001b[0m: string index out of range"
     ]
    }
   ],
   "source": [
    "ts[20]"
   ]
  },
  {
   "cell_type": "code",
   "execution_count": 27,
   "metadata": {
    "collapsed": false,
    "deletable": true,
    "editable": true
   },
   "outputs": [
    {
     "name": "stdout",
     "output_type": "stream",
     "text": [
      "TTC TCA CAT\n",
      "ATA TAA AAG\n",
      "AGC GCC CCA\n",
      "CAT AT T\n"
     ]
    }
   ],
   "source": [
    "for i in range(0,len(ts),3):\n",
    "    orf1 = ts[i:i+3]\n",
    "    orf2 = ts[i+1:i+4]\n",
    "    orf3 = ts[i+2:i+5]\n",
    "    print(orf1, orf2, orf3)"
   ]
  },
  {
   "cell_type": "code",
   "execution_count": 16,
   "metadata": {
    "collapsed": true,
    "deletable": true,
    "editable": true
   },
   "outputs": [],
   "source": [
    "gc0 = read_code('genetic_code.csv')"
   ]
  },
  {
   "cell_type": "code",
   "execution_count": 17,
   "metadata": {
    "collapsed": false,
    "deletable": true,
    "editable": true
   },
   "outputs": [
    {
     "name": "stdout",
     "output_type": "stream",
     "text": [
      "None\n"
     ]
    }
   ],
   "source": [
    "print(gc0)"
   ]
  },
  {
   "cell_type": "markdown",
   "metadata": {
    "collapsed": true,
    "deletable": true,
    "editable": true
   },
   "source": [
    "**Autograder Test** &nbsp; Do not delete the following cell."
   ]
  },
  {
   "cell_type": "code",
   "execution_count": 278,
   "metadata": {
    "collapsed": false,
    "deletable": false,
    "editable": true,
    "nbgrader": {
     "checksum": "a91ea17e686e6c09fa2518882dc2516d",
     "grade": true,
     "grade_id": "orfs_test",
     "locked": true,
     "points": 5,
     "solution": false
    }
   },
   "outputs": [
    {
     "name": "stdout",
     "output_type": "stream",
     "text": [
      "TTCATAAGCCAT CCGGAATTCTACTTGAGCATCTACTTGAGCATCTACTTGAGCATCTACTTGAGCATCTACTTGAGCATATGGCTTATGAA\n",
      "TTC TCA CAT\n",
      "ATA TAA AAG\n",
      "AGC GCC CCA\n",
      "CAT AT T\n",
      "CCG CGG GGA\n",
      "GAA AAT ATT\n",
      "TTC TCT CTA\n",
      "TAC ACT CTT\n",
      "TTG TGA GAG\n",
      "AGC GCA CAT\n",
      "ATC TCT CTA\n",
      "TAC ACT CTT\n",
      "TTG TGA GAG\n",
      "AGC GCA CAT\n",
      "ATC TCT CTA\n",
      "TAC ACT CTT\n",
      "TTG TGA GAG\n",
      "AGC GCA CAT\n",
      "ATC TCT CTA\n",
      "TAC ACT CTT\n",
      "TTG TGA GAG\n",
      "AGC GCA CAT\n",
      "ATC TCT CTA\n",
      "TAC ACT CTT\n",
      "TTG TGA GAG\n",
      "AGC GCA CAT\n",
      "ATA TAT ATG\n",
      "TGG GGC GCT\n",
      "CTT TTA TAT\n",
      "ATG TGA GAA\n",
      "AA A \n"
     ]
    },
    {
     "ename": "AssertionError",
     "evalue": "",
     "output_type": "error",
     "traceback": [
      "\u001b[0;31m---------------------------------------------------------------------------\u001b[0m",
      "\u001b[0;31mAssertionError\u001b[0m                            Traceback (most recent call last)",
      "\u001b[0;32m<ipython-input-278-24492291ae18>\u001b[0m in \u001b[0;36m<module>\u001b[0;34m()\u001b[0m\n\u001b[1;32m      1\u001b[0m \u001b[0mdct\u001b[0m \u001b[0;34m=\u001b[0m \u001b[0mread_code\u001b[0m\u001b[0;34m(\u001b[0m\u001b[0;34m'genetic_code.csv'\u001b[0m\u001b[0;34m)\u001b[0m\u001b[0;34m\u001b[0m\u001b[0m\n\u001b[0;32m----> 2\u001b[0;31m \u001b[0;32massert\u001b[0m \u001b[0morfs\u001b[0m\u001b[0;34m(\u001b[0m\u001b[0;34m'TTCATAAGCCAT'\u001b[0m\u001b[0;34m,\u001b[0m \u001b[0mdct\u001b[0m\u001b[0;34m)\u001b[0m \u001b[0;34m==\u001b[0m \u001b[0;34m[\u001b[0m\u001b[0;34m'FISH'\u001b[0m\u001b[0;34m,\u001b[0m \u001b[0;34m'S*A_'\u001b[0m\u001b[0;34m,\u001b[0m \u001b[0;34m'HKP_'\u001b[0m\u001b[0;34m,\u001b[0m \u001b[0;34m'MAYE'\u001b[0m\u001b[0;34m,\u001b[0m \u001b[0;34m'WLM_'\u001b[0m\u001b[0;34m,\u001b[0m \u001b[0;34m'GL*_'\u001b[0m\u001b[0;34m]\u001b[0m\u001b[0;34m\u001b[0m\u001b[0m\n\u001b[0m",
      "\u001b[0;31mAssertionError\u001b[0m: "
     ]
    }
   ],
   "source": [
    "dct = read_code('genetic_code.csv')\n",
    "assert orfs('TTCATAAGCCAT', dct) == ['FISH', 'S*A_', 'HKP_', 'MAYE', 'WLM_', 'GL*_']"
   ]
  },
  {
   "cell_type": "markdown",
   "metadata": {
    "deletable": true,
    "editable": true
   },
   "source": [
    "### <span style=\"color:seagreen\">5. &nbsp; Random Base</span>"
   ]
  },
  {
   "cell_type": "markdown",
   "metadata": {
    "deletable": true,
    "editable": true
   },
   "source": [
    "Fill in the function named `random_difference` so it returns a random DNA letter.  The input will be one of the characters A, C, G, or T, and the return value should be a random letter that is different than the one passed as input.\n",
    "\n",
    "Examples:\n",
    "```\n",
    ">>> random_difference('A')\n",
    "'T'\n",
    "```\n",
    "Each time you call the function you could see a different result.\n",
    "\n",
    "Challenge:  can you solve this problem without using any `if` statements?  There is a mathematical expression that will map any random number into an index between 0 and 3.\n",
    "\n",
    "Hint:  call `dna_letters.find(ch)` to get a number between 0 and 3 that corresponds to the location of the letter passed to this function."
   ]
  },
  {
   "cell_type": "markdown",
   "metadata": {
    "deletable": true,
    "editable": true
   },
   "source": [
    "#### Solution "
   ]
  },
  {
   "cell_type": "code",
   "execution_count": 3197,
   "metadata": {
    "collapsed": false,
    "deletable": false,
    "editable": true,
    "nbgrader": {
     "checksum": "f05fd657da4d8ee194c5695d91f99721",
     "grade": true,
     "grade_id": "rbase",
     "locked": false,
     "points": 5,
     "solution": true
    }
   },
   "outputs": [],
   "source": [
    "from random import randint\n",
    "\n",
    "\n",
    "def random_difference(ch):\n",
    "    base = [\"A\",\"C\",\"G\",\"T\"]\n",
    "    base.remove(ch)\n",
    "    ran = random.randint(0,2)\n",
    "    return base[ran]\n",
    "        \n"
   ]
  },
  {
   "cell_type": "markdown",
   "metadata": {
    "deletable": true,
    "editable": true
   },
   "source": [
    "Use this code cell to test your function."
   ]
  },
  {
   "cell_type": "code",
   "execution_count": 3206,
   "metadata": {
    "collapsed": false,
    "deletable": true,
    "editable": true
   },
   "outputs": [
    {
     "data": {
      "text/plain": [
       "'A'"
      ]
     },
     "execution_count": 3206,
     "metadata": {},
     "output_type": "execute_result"
    }
   ],
   "source": [
    "random_difference(\"C\")"
   ]
  },
  {
   "cell_type": "markdown",
   "metadata": {
    "collapsed": true,
    "deletable": true,
    "editable": true
   },
   "source": [
    "**Autograder Test** &nbsp; Do not delete the following cell."
   ]
  },
  {
   "cell_type": "code",
   "execution_count": 3200,
   "metadata": {
    "collapsed": false,
    "deletable": false,
    "editable": true,
    "nbgrader": {
     "checksum": "61e7ed01662fbd4cd7c4305d8b4db66b",
     "grade": true,
     "grade_id": "rbase_test",
     "locked": true,
     "points": 5,
     "solution": false
    }
   },
   "outputs": [],
   "source": [
    "for ch in 'ACGT':\n",
    "    rch = random_difference(ch)\n",
    "    assert (rch != ch) and (rch in 'ACGT')"
   ]
  },
  {
   "cell_type": "markdown",
   "metadata": {
    "deletable": true,
    "editable": true
   },
   "source": [
    "### <span style=\"color:seagreen\">6. &nbsp; Mutate</span>"
   ]
  },
  {
   "cell_type": "markdown",
   "metadata": {
    "deletable": true,
    "editable": true
   },
   "source": [
    "Fill in the definition of the function named `mutate`.  The function will be passed a DNA string and an integer `n`; the result should be a copy of the input string but with `n` bases changed to new characters.\n",
    "\n",
    "Example:\n",
    "```\n",
    ">>> mutate('AAAAAAAAAA', 3)\n",
    "'ACGAAATAAA'\n",
    "```\n",
    "\n",
    "If you are not going to work on the `random_difference` function in the previous exercise you can simply replace a letter by its complement using the dictionary named `comp` defined in the first part of the notebook.\n",
    "\n",
    "For full credit make sure you don't try to change a location more than once.  For example, suppose the input has 10 letters, and the first mutation goes in location 3.  When you choose the location for the next mutation, there is a 10% chance of putting the second mutation in the same location.\n",
    "\n",
    "You can receive partial credit by simply making `n` random changes, but for full credit make sure the changes all go in different locations.\n",
    "\n",
    "If you work on the version that puts mutations in different locations there is a potential problem.  What if the call specifies too many mutations?  _e.g._ if we pass a string with 10 based and ask for 11 mutations the function might go into an infinite loop!  Add a test at the beginning of the function that prints a message and returns if the requested number of mutations is more than half the length of the input string:\n",
    "```\n",
    ">>> mutate('AAAAAAAAAA', 7)\n",
    "too many differences\n",
    "```"
   ]
  },
  {
   "cell_type": "markdown",
   "metadata": {
    "deletable": true,
    "editable": true
   },
   "source": [
    "#### Solution "
   ]
  },
  {
   "cell_type": "code",
   "execution_count": null,
   "metadata": {
    "collapsed": true,
    "deletable": false,
    "editable": true,
    "nbgrader": {
     "checksum": "84ba2eb403560ff5e87ecb490cfcea85",
     "grade": true,
     "grade_id": "mutate",
     "locked": false,
     "points": 5,
     "solution": true
    }
   },
   "outputs": [],
   "source": [
    "def mutate(dna, n):\n",
    "    # YOUR CODE HERE\n",
    "    pass"
   ]
  },
  {
   "cell_type": "markdown",
   "metadata": {
    "deletable": true,
    "editable": true
   },
   "source": [
    "Use this code cell to test your function)."
   ]
  },
  {
   "cell_type": "code",
   "execution_count": null,
   "metadata": {
    "collapsed": false,
    "deletable": true,
    "editable": true
   },
   "outputs": [],
   "source": []
  },
  {
   "cell_type": "markdown",
   "metadata": {
    "collapsed": true,
    "deletable": true,
    "editable": true
   },
   "source": [
    "**Autograder Test** &nbsp; Do not delete the following cell."
   ]
  },
  {
   "cell_type": "code",
   "execution_count": null,
   "metadata": {
    "collapsed": false,
    "deletable": false,
    "editable": true,
    "nbgrader": {
     "checksum": "0e69e32aa0cdf91547a82ec96d16eaab",
     "grade": true,
     "grade_id": "mutate_test",
     "locked": true,
     "points": 5,
     "solution": false
    }
   },
   "outputs": [],
   "source": [
    "s = mutate('AAAAAAAAAA', 2)\n",
    "t = s.replace('A','')\n",
    "assert len(t) == 2\n",
    "for i in range(len(t)):\n",
    "    assert t[i] in 'CGT'"
   ]
  },
  {
   "cell_type": "markdown",
   "metadata": {
    "deletable": true,
    "editable": true
   },
   "source": [
    "### <span style=\"color:seagreen\">7. &nbsp; Differences</span>"
   ]
  },
  {
   "cell_type": "markdown",
   "metadata": {
    "deletable": true,
    "editable": true
   },
   "source": [
    "Fill in the function below so it computes the number of differences between two DNA strings.  When you wrote this function for Lab 4 you simply counted the number of character differencs (\"SNPs\") but for this project you want to compare two coding sequences.  You want to analyze the input sequences codon by codon, where each codon is a group of 3 consecutive letters (which is also how the `translate` function defined in the first cell works).\n",
    "\n",
    "If two codons differ, there are two situations to consider.  The two codons might still translate into the same amino acid letter, in which case we say it is a \"synonymous difference\", otherwise it is a \"nonsynonymous difference.\"\n",
    "\n",
    "For example, suppose we compare ATGGTTGAA with ATGGTCGCA.  Here are the two strings, displayed on two lines and split into codons so it's easier to see where they differ:\n",
    "```\n",
    "ATG GTT GAA\n",
    "ATG GTC GCA\n",
    "```\n",
    "The first codon is the same in each input, so there is no difference here.  The second codon differs, but the codon in each string translates into the same amino acid letter ('V') so this is a synonymous difference.  The third codon differs, and it translates to a different letter, so it's a nonsynonymous difference.\n",
    "\n",
    "The return value from the function should be a pair of numbers correspoding to the number of synonymous mutations and the number of nonsynonymous mutations.  For example,\n",
    "```\n",
    ">>> t1 = 'ATGGTTGAA'\n",
    ">>> t2 = 'ATGGTCGCA'\n",
    ">>> diffs(t1, t2)\n",
    "(1, 1)\n",
    "```\n",
    "\n",
    "**Note:** &nbsp; To return two values from a function just write two variable names in the `return` statement, for example\n",
    "```\n",
    "    return x, y\n",
    "```"
   ]
  },
  {
   "cell_type": "markdown",
   "metadata": {
    "deletable": true,
    "editable": true
   },
   "source": [
    "#### Solution "
   ]
  },
  {
   "cell_type": "code",
   "execution_count": 3349,
   "metadata": {
    "collapsed": false,
    "deletable": false,
    "editable": true,
    "nbgrader": {
     "checksum": "4366c54efaaed978c55cdeda649a05fc",
     "grade": true,
     "grade_id": "diffs",
     "locked": false,
     "points": 5,
     "solution": true
    }
   },
   "outputs": [],
   "source": [
    "def diffs(s1, s2, code):\n",
    "    x = 0\n",
    "    y = 0\n",
    "    codon = ' '\n",
    "    for s in (s1,s2):\n",
    "        for i in range(0,len(s),3):\n",
    "            if s1[i:i+3] != s2[i:i+3] and translate(s1[i:i+3],code) != translate(s2[i:i+3],code):\n",
    "                x += 1\n",
    "            elif s1[i:i+3] != s2[i:i+3] and translate(s1[i:i+3],code) == translate(s2[i:i+3],code):\n",
    "                y += 1\n",
    "        return y, x\n",
    "            "
   ]
  },
  {
   "cell_type": "markdown",
   "metadata": {
    "deletable": true,
    "editable": true
   },
   "source": [
    "You can use this code cell to test your function with the example shown above (add additional code cells for your own tests if you want):"
   ]
  },
  {
   "cell_type": "code",
   "execution_count": 3352,
   "metadata": {
    "collapsed": false,
    "deletable": true,
    "editable": true
   },
   "outputs": [
    {
     "data": {
      "text/plain": [
       "(1, 1)"
      ]
     },
     "execution_count": 3352,
     "metadata": {},
     "output_type": "execute_result"
    }
   ],
   "source": [
    "gc = read_code('genetic_code.csv')\n",
    "t1 = 'ATGGTTGAA'\n",
    "t2 = 'ATGGTCGCA'\n",
    "diffs(t1, t2, gc)"
   ]
  },
  {
   "cell_type": "markdown",
   "metadata": {
    "collapsed": true,
    "deletable": true,
    "editable": true
   },
   "source": [
    "**Autograder Test** &nbsp; Do not delete the following cell."
   ]
  },
  {
   "cell_type": "code",
   "execution_count": 3353,
   "metadata": {
    "collapsed": false,
    "deletable": false,
    "editable": true,
    "nbgrader": {
     "checksum": "1e160505b2fa43d3368040134b6fc1d0",
     "grade": true,
     "grade_id": "diffs_test",
     "locked": true,
     "points": 5,
     "solution": false
    }
   },
   "outputs": [],
   "source": [
    "dct = read_code('genetic_code.csv')\n",
    "g1 = 'ATGGCAGGTGAAGCAGTTTCGGAACACACACCAGATTCGCAGGAAGTAACAGTAACTAGCGTAGTTTGTTGCCTCGATTCTGTGGTGGAAATAGGACACCATGTCGTGTATTCTGTGGTAACGCCGTTAATAGTAGCAGTGCTTATAGATACAATGGCTGGAGAAGCAGTCTTAGAGCATACGTCAGATTCACAAGAAGAAATTGTAACTACTGTGGTTTGCTCTGTTGTCCCCTTGGTTTGCTTTGTTGTCTCCGTAGTTTGCTTTGTTATCTCTGTGGTAGAAATAGGGCACCATGTGGTATACTCTGTTGTGGCACCGCTAACAGTAACGGTGGCCGTGGAAACAATTGCAGAGGAGATGGATTCAGTGCACACATGA'\n",
    "g2 = 'ATGGCAGGTGAAGCAGTTTCGGCACACACACCAGATTCGCAGGAAGTAACAGTAACTAGTGTAGTTTGTTGCCTCGATTCTGTGGTGGAAATAGGACACCATGTCGTGTATTCTGTGGTAACGCCCTTAATAGTAGCAGTGCTTATAGATACAATGGCTGGAGAAGCAGTCTTAGAGCATACGTCAGATTCACAAGAAGAAATTGTAACTACTGTGGTTTGCTCTGTTGTCCCCTTGTTTTGCTTTGTCGTCTCCGTAGTTTGCTTTGTGATCTCTGTGGTGGAAATAGGTCACCATGTGGTATACTCTGTTGTGGCACCGTTAACAGTAACGGTGGCCGTGGAAACAATTGCAGAGGAGATGGATTCAGTGCACACATGA'\n",
    "assert diffs(g1,g2,dct) == (7,2)"
   ]
  },
  {
   "cell_type": "markdown",
   "metadata": {
    "deletable": true,
    "editable": true
   },
   "source": [
    "### <span style=\"color:seagreen\">8. &nbsp; Splice</span>"
   ]
  },
  {
   "cell_type": "markdown",
   "metadata": {
    "deletable": true,
    "editable": true
   },
   "source": [
    "Fill in the definition of the `splice` function so it removes introns from a DNA string.\n",
    "\n",
    "For partial credit implement a version that is called with a string and a list of two numbers that contains the starting and ending location of a single intron; it should return the DNA characters on either side of the specified location.  For example,\n",
    "```\n",
    ">>> s = 'AAAAGGGAAA'\n",
    ">>> a = [4, 6]\n",
    ">>> splice(s, a)\n",
    "'AAAAAAA'\n",
    "```\n",
    "Notice how the three G's at locations 4 through 6 have been removed.\n",
    "\n",
    "For full credit write the function so it takes a list of pairs of numbers specifying the locations of one or more introns.  The introns in the example below are the G's in location 6--9, 14--15, and 22--25.  Here is the function call and the result:\n",
    "```\n",
    ">>> s = 'AAAAATGGGGTAATGGTAAAATGGGGTAAAA'\n",
    ">>> a = [[6,9], [14,15], [22,25]]\n",
    ">>> splice(s, a)\n",
    "'AAAAATTAATTAAAATTAAAA'\n",
    "```\n",
    "Notice how all the G's are gone and the T's that surrounded them are now next to each other."
   ]
  },
  {
   "cell_type": "markdown",
   "metadata": {
    "deletable": true,
    "editable": true
   },
   "source": [
    "#### Solution "
   ]
  },
  {
   "cell_type": "code",
   "execution_count": 3540,
   "metadata": {
    "collapsed": false,
    "deletable": false,
    "editable": true,
    "nbgrader": {
     "checksum": "adcfd1e6bb35683c5439228e9e1e9c04",
     "grade": true,
     "grade_id": "splice",
     "locked": false,
     "points": 5,
     "solution": true
    }
   },
   "outputs": [],
   "source": [
    "def splice(dna, introns):\n",
    "    lst = []\n",
    "    dna = list(dna)\n",
    "    for x in introns:\n",
    "        sp = dna[x[0]:x[1]+1]\n",
    "        for ch in sp:\n",
    "            lst.append(ch)\n",
    "            for i in range(0,len(lst)):\n",
    "                if lst[i] in dna:\n",
    "                    dna.remove(lst[i])\n",
    "        dna = \"\".join(dna)\n",
    "        return dna\n",
    "            \n",
    "                \n",
    "           \n",
    "            \n",
    "    #if sp in dna:\n",
    "        #dna.remove(sp)\n",
    "        #return \n",
    "    #for ch in sp:\n",
    "        #if ch in dna:\n",
    "            #dna.remove(ch)\n",
    "    #return dna\n",
    "            #remove = \"\".join(dna[x[i]:x[i+1]+1])\n",
    "            #dna[x[i]:x[i+1]+1] = [\"\".join(dna[x[i]:x[i+1]+1])]\n",
    "        \n",
    "            \n",
    "            \n",
    "            \n",
    "       \n",
    "        \n",
    "\n",
    "        \n"
   ]
  },
  {
   "cell_type": "markdown",
   "metadata": {
    "deletable": true,
    "editable": true
   },
   "source": [
    "You can use this code cell to test your function:"
   ]
  },
  {
   "cell_type": "code",
   "execution_count": 3543,
   "metadata": {
    "collapsed": false,
    "deletable": true,
    "editable": true
   },
   "outputs": [
    {
     "data": {
      "text/plain": [
       "'AAAAATTAATTAAAATTAAAA'"
      ]
     },
     "execution_count": 3543,
     "metadata": {},
     "output_type": "execute_result"
    }
   ],
   "source": [
    "a = [[6,9], [14,15], [22,25]]\n",
    "s = 'AAAAATGGGGTAATGGTAAAATGGGGTAAAA'\n",
    "splice(s,a)\n"
   ]
  },
  {
   "cell_type": "markdown",
   "metadata": {
    "collapsed": true,
    "deletable": true,
    "editable": true
   },
   "source": [
    "**Autograder Test** &nbsp; Do not delete the following cell."
   ]
  },
  {
   "cell_type": "code",
   "execution_count": 3544,
   "metadata": {
    "collapsed": false,
    "deletable": false,
    "editable": true,
    "nbgrader": {
     "checksum": "f1beae2c291f036640c97835b0fd748c",
     "grade": true,
     "grade_id": "splice_test",
     "locked": true,
     "points": 5,
     "solution": false
    }
   },
   "outputs": [],
   "source": [
    "s = 'AAXXXXXXXAAAAXXXAAAAA'\n",
    "t = splice(s, [(2,8),(13,15)] )\n",
    "assert len(t) == len(s) - s.count('X')    # all the X's should be spliced out\n",
    "assert t.replace('A','') == ''            # remaining letters should all be A's"
   ]
  },
  {
   "cell_type": "markdown",
   "metadata": {
    "deletable": true,
    "editable": true
   },
   "source": [
    "### <span style=\"color:seagreen\">9. &nbsp; Mode</span>"
   ]
  },
  {
   "cell_type": "markdown",
   "metadata": {
    "deletable": true,
    "editable": true
   },
   "source": [
    "Fill in the function below so it computes the mode of a list of values.  The mode is the item that occurs most often in the input.  For example, in the string \"abracadabra\" there are 5 A's, 2 B's, 1 C, 1 D, and 2 R's, so the mode is A.\n",
    "```\n",
    ">>> lst = list('abracadabra')\n",
    ">>> print(lst)\n",
    "['a', 'b', 'r', 'a', 'c', 'a', 'd', 'a', 'b', 'r', 'a']\n",
    "\n",
    ">>> mode(lst)\n",
    "'a'\n",
    "```"
   ]
  },
  {
   "cell_type": "markdown",
   "metadata": {
    "deletable": true,
    "editable": true
   },
   "source": [
    "#### Solution "
   ]
  },
  {
   "cell_type": "code",
   "execution_count": 1063,
   "metadata": {
    "collapsed": true
   },
   "outputs": [],
   "source": [
    "import string"
   ]
  },
  {
   "cell_type": "code",
   "execution_count": 1116,
   "metadata": {
    "collapsed": false,
    "deletable": false,
    "editable": true,
    "nbgrader": {
     "checksum": "0bf1e7d8c60982278ba4d724904f9ca7",
     "grade": true,
     "grade_id": "mode",
     "locked": false,
     "points": 5,
     "solution": true
    }
   },
   "outputs": [],
   "source": [
    "def mode(a):\n",
    "    dct = {}\n",
    "    a = list(a)\n",
    "    for item in a:\n",
    "        dct[item] = dct.get(item,0)+1\n",
    "    for v in dct:\n",
    "        if dct[v] > dct[item]:\n",
    "            return v\n",
    "        \n"
   ]
  },
  {
   "cell_type": "markdown",
   "metadata": {
    "deletable": true,
    "editable": true
   },
   "source": [
    "You can use these code cells to test your function with the example shown above:"
   ]
  },
  {
   "cell_type": "code",
   "execution_count": 1117,
   "metadata": {
    "collapsed": false,
    "deletable": true,
    "editable": true
   },
   "outputs": [
    {
     "data": {
      "text/plain": [
       "'i'"
      ]
     },
     "execution_count": 1117,
     "metadata": {},
     "output_type": "execute_result"
    }
   ],
   "source": [
    "lst = list('supercalifragilisticexpialidocious')\n",
    "mode(lst)"
   ]
  },
  {
   "cell_type": "markdown",
   "metadata": {
    "collapsed": true,
    "deletable": true,
    "editable": true
   },
   "source": [
    "**Autograder Test** &nbsp; Do not delete the following cell."
   ]
  },
  {
   "cell_type": "code",
   "execution_count": 1118,
   "metadata": {
    "collapsed": false,
    "deletable": false,
    "editable": true,
    "nbgrader": {
     "checksum": "37e7c656d49503829ab8998ad7293c2a",
     "grade": true,
     "grade_id": "mode_test",
     "locked": true,
     "points": 5,
     "solution": false
    }
   },
   "outputs": [],
   "source": [
    "assert mode(list('supercalifragilisticexpialidocious')) == 'i'"
   ]
  },
  {
   "cell_type": "markdown",
   "metadata": {
    "deletable": true,
    "editable": true
   },
   "source": [
    "### <span style=\"color:seagreen\">10. &nbsp; Genetic Drift</span>"
   ]
  },
  {
   "cell_type": "markdown",
   "metadata": {
    "deletable": true,
    "editable": true
   },
   "source": [
    "The goal of this project is to simulate genetic drift.  We'll start with a population that has a random mix of alleles and then simulate how the alleles are passed from one generation to the next.  We'll stop when one of the alleles has become fixed.\n",
    "\n",
    "We'll use letters `a` and `A` to represent the alleles.  If the indviduals in our population are diploids we can represent them as two-letter strings:  `aa`, `aA`, `Aa`, or `AA` (in genetics `aA` and `Aa` are the same, but we can keep track of them separately).  A population of size $n$ is then simply a list of $n$ two-letter strings.  We'll stop the simulation when all the strings are either `aa` or `AA`.\n",
    "\n",
    "Here are some examples.  This call simulates a population of 100 individuals, with a 50-50 chance of either allele, running for a maximum of 1000 generations:\n",
    "```\n",
    ">>> drift(100, 0.5, 1000)\n",
    "after 320 generations:\n",
    "{'Aa': 0, 'AA': 100, 'aa': 0, 'aA': 0}\n",
    "```\n",
    "This is the same, but runs for only 50 generations, so the final population will probably still have a mix of alleles:\n",
    "```\n",
    ">>> drift(100, 0.5, 50)\n",
    "after 50 generations:\n",
    "{'Aa': 19, 'AA': 52, 'aa': 12, 'aA': 17}\n",
    "```\n",
    "\n",
    "It will be easier to complete this problem if we break it into smaller pieces.  The code cell below has four separate function definitions.  The first three are \"helper functions\" that perform one specific task.\n",
    "* `ra` stands for \"random allele\".  It will return either `a` or `A`.  Pass it a number between 0 and 1 to use as the probability of returning `A`\n",
    "* `allele_count` will return a dictionary that contains the number of each type of allele found in a population\n",
    "* `next_gen` will be create a new population by randomly selecting and crossing pairs of individuals from the current population (see below)\n",
    "\n",
    "`drift` is the main function.  Pass it a population size, the probability used to choose alleles in the first generation, and the maximum number of generations to simulate.  It will use `ra` to make the individuals for the first generation, and then repeatedly call `next_gen` and `allele_count` to simulate passing alleles between generations.\n",
    "\n",
    "Here is how the `next_gen` function should create the new generation:\n",
    "* start with an empty list\n",
    "* use a `for` loop that iterates `n` times (where `n` is the population size)\n",
    "* each iteration makes a new 2-letter string to add to the list\n",
    "* to make a string, choose two random individuals (\"mom\" and \"dad\") from the current population\n",
    "* the new string has a random letter from mom and a random letter from dad\n",
    "\n",
    "Two functions from the `random` library will be useful for this project:\n",
    "* `random.random()` will return a random number between 0 and 1\n",
    "* `random.choice(x)` returns an item chosen at random from `x`, where `x` can be a list (e.g. a population) or a string (e.g. an individual)"
   ]
  },
  {
   "cell_type": "markdown",
   "metadata": {
    "deletable": true,
    "editable": true
   },
   "source": [
    "#### Solution "
   ]
  },
  {
   "cell_type": "code",
   "execution_count": 1062,
   "metadata": {
    "collapsed": false,
    "deletable": false,
    "editable": true,
    "nbgrader": {
     "checksum": "8e92a5e3520285cc71ac5b4000552f23",
     "grade": true,
     "grade_id": "drift",
     "locked": false,
     "points": 5,
     "solution": true
    }
   },
   "outputs": [],
   "source": [
    "import random\n",
    "\n",
    "def ra(prob):\n",
    "    # if p > 0.5 return 'A' else return 'a'\n",
    "    # coin = 'drift' if random.random() < 0.5 else 'orf'\n",
    "    return 'A' if random.random() < prob else 'a'\n",
    "\n",
    "def allele_count(pop):\n",
    "    dct = { 'aa': 0, 'aA': 0, 'Aa': 0, 'AA': 0}\n",
    "    for x in pop:\n",
    "        dct[x] += 1\n",
    "    return dct\n",
    "\n",
    "def next_gen(lst):\n",
    "    newgen = []\n",
    "    for i in range(len(lst)):\n",
    "        #mom = random.choice(lst)\n",
    "        #dad = random.choice(lst)\n",
    "        mx = random.randint(0,len(lst)-1)\n",
    "        dx = random.randint(0,len(lst)-1)\n",
    "        mom = lst[mx]\n",
    "        dad = lst[dx]\n",
    "        x = random.choice(mom) + random.choice(dad)\n",
    "        newgen.append(x)\n",
    "        # print(mom, 'at', mx, 'x', dad, 'at', dx)\n",
    "    return newgen\n",
    "\n",
    "def drift(popsize, p, maxgen = 1000):\n",
    "    pop = [ ra(p) + ra(p) for i in range(popsize) ]\n",
    "    pop = next_gen(pop)\n",
    "    pop = allele_count(pop) \n",
    "    return pop\n"
   ]
  },
  {
   "cell_type": "code",
   "execution_count": 1052,
   "metadata": {
    "collapsed": false
   },
   "outputs": [
    {
     "ename": "NameError",
     "evalue": "name 'p0' is not defined",
     "output_type": "error",
     "traceback": [
      "\u001b[0;31m---------------------------------------------------------------------------\u001b[0m",
      "\u001b[0;31mNameError\u001b[0m                                 Traceback (most recent call last)",
      "\u001b[0;32m<ipython-input-1052-741541ef339d>\u001b[0m in \u001b[0;36m<module>\u001b[0;34m()\u001b[0m\n\u001b[0;32m----> 1\u001b[0;31m \u001b[0mnext_gen\u001b[0m\u001b[0;34m(\u001b[0m\u001b[0mp0\u001b[0m\u001b[0;34m)\u001b[0m\u001b[0;34m\u001b[0m\u001b[0m\n\u001b[0m",
      "\u001b[0;31mNameError\u001b[0m: name 'p0' is not defined"
     ]
    }
   ],
   "source": [
    "next_gen(p0)"
   ]
  },
  {
   "cell_type": "markdown",
   "metadata": {
    "collapsed": false,
    "deletable": true,
    "editable": true
   },
   "source": [
    "Use these code cells to test your functions (add more if you wish)."
   ]
  },
  {
   "cell_type": "code",
   "execution_count": 1061,
   "metadata": {
    "collapsed": false
   },
   "outputs": [
    {
     "data": {
      "text/plain": [
       "{'AA': 21, 'Aa': 24, 'aA': 24, 'aa': 31}"
      ]
     },
     "execution_count": 1061,
     "metadata": {},
     "output_type": "execute_result"
    }
   ],
   "source": [
    "drift(100, 0.5, 50)"
   ]
  },
  {
   "cell_type": "code",
   "execution_count": 21,
   "metadata": {
    "collapsed": false,
    "deletable": true,
    "editable": true
   },
   "outputs": [],
   "source": [
    "p0 = drift(25, 0.5)"
   ]
  },
  {
   "cell_type": "code",
   "execution_count": 22,
   "metadata": {
    "collapsed": false
   },
   "outputs": [
    {
     "name": "stdout",
     "output_type": "stream",
     "text": [
      "['Aa', 'Aa', 'aA', 'aa', 'aa', 'aA', 'AA', 'AA', 'aA', 'aA', 'aA', 'Aa', 'Aa', 'aa', 'aa', 'Aa', 'aa', 'aa', 'aa', 'Aa', 'AA', 'Aa', 'aA', 'aA', 'aA']\n"
     ]
    }
   ],
   "source": [
    "print(p0)"
   ]
  },
  {
   "cell_type": "code",
   "execution_count": 25,
   "metadata": {
    "collapsed": false
   },
   "outputs": [
    {
     "data": {
      "text/plain": [
       "{'AA': 3, 'Aa': 7, 'aA': 8, 'aa': 7}"
      ]
     },
     "execution_count": 25,
     "metadata": {},
     "output_type": "execute_result"
    }
   ],
   "source": [
    "allele_count(p0)"
   ]
  },
  {
   "cell_type": "code",
   "execution_count": 3,
   "metadata": {
    "collapsed": false
   },
   "outputs": [
    {
     "data": {
      "text/plain": [
       "25"
      ]
     },
     "execution_count": 3,
     "metadata": {},
     "output_type": "execute_result"
    }
   ],
   "source": [
    "x**2"
   ]
  },
  {
   "cell_type": "code",
   "execution_count": 4,
   "metadata": {
    "collapsed": false
   },
   "outputs": [
    {
     "name": "stdout",
     "output_type": "stream",
     "text": [
      "[1, 4, 9, 16, 25, 36, 49, 64, 81, 100]\n"
     ]
    }
   ],
   "source": [
    "lst = []\n",
    "for i in range(1,11):\n",
    "    lst.append(i**2)\n",
    "print(lst)"
   ]
  },
  {
   "cell_type": "code",
   "execution_count": 5,
   "metadata": {
    "collapsed": true
   },
   "outputs": [],
   "source": [
    "lst = [i**2 for i in range(1,11)]"
   ]
  },
  {
   "cell_type": "code",
   "execution_count": 6,
   "metadata": {
    "collapsed": false
   },
   "outputs": [
    {
     "data": {
      "text/plain": [
       "[1, 4, 9, 16, 25, 36, 49, 64, 81, 100]"
      ]
     },
     "execution_count": 6,
     "metadata": {},
     "output_type": "execute_result"
    }
   ],
   "source": [
    "lst"
   ]
  },
  {
   "cell_type": "markdown",
   "metadata": {
    "collapsed": true,
    "deletable": true,
    "editable": true
   },
   "source": [
    "**Autograder Test** &nbsp; Do not delete the following cell."
   ]
  },
  {
   "cell_type": "code",
   "execution_count": 1057,
   "metadata": {
    "collapsed": false,
    "deletable": false,
    "editable": true,
    "nbgrader": {
     "checksum": "d96c2f25ad4be9ebc489cec727da2759",
     "grade": true,
     "grade_id": "ra_test",
     "locked": true,
     "points": 2,
     "solution": false
    }
   },
   "outputs": [],
   "source": [
    "pop = [ra(0.5)+ra(0.5) for i in range(10)]\n",
    "s = ''.join(pop)\n",
    "assert len(s) == 20 and (s.count('a') + s.count('A') == 20)"
   ]
  },
  {
   "cell_type": "code",
   "execution_count": 1058,
   "metadata": {
    "collapsed": true,
    "deletable": false,
    "editable": true,
    "nbgrader": {
     "checksum": "d7a40fb6f2db693ef1b0fc66bf8cb79d",
     "grade": true,
     "grade_id": "next_gen_test",
     "locked": true,
     "points": 2,
     "solution": false
    }
   },
   "outputs": [],
   "source": [
    "newpop = next_gen(pop)\n",
    "s = ''.join(newpop)\n",
    "assert len(newpop) == len(pop) and (s.count('a') + s.count('A') == 20)"
   ]
  },
  {
   "cell_type": "code",
   "execution_count": 1059,
   "metadata": {
    "collapsed": false,
    "deletable": false,
    "editable": true,
    "nbgrader": {
     "checksum": "7a2788610dfe26da8e81b4dc64e809ac",
     "grade": true,
     "grade_id": "drift_test",
     "locked": true,
     "points": 1,
     "solution": false
    }
   },
   "outputs": [
    {
     "ename": "AssertionError",
     "evalue": "",
     "output_type": "error",
     "traceback": [
      "\u001b[0;31m---------------------------------------------------------------------------\u001b[0m",
      "\u001b[0;31mAssertionError\u001b[0m                            Traceback (most recent call last)",
      "\u001b[0;32m<ipython-input-1059-f9e2d9d4869b>\u001b[0m in \u001b[0;36m<module>\u001b[0;34m()\u001b[0m\n\u001b[0;32m----> 1\u001b[0;31m \u001b[0;32massert\u001b[0m \u001b[0mdrift\u001b[0m\u001b[0;34m(\u001b[0m\u001b[0;36m100\u001b[0m\u001b[0;34m,\u001b[0m \u001b[0;36m0.5\u001b[0m\u001b[0;34m,\u001b[0m \u001b[0;36m50\u001b[0m\u001b[0;34m)\u001b[0m \u001b[0;32mis\u001b[0m \u001b[0;32mNone\u001b[0m\u001b[0;34m\u001b[0m\u001b[0m\n\u001b[0m",
      "\u001b[0;31mAssertionError\u001b[0m: "
     ]
    }
   ],
   "source": [
    "assert drift(100, 0.5, 50) is None"
   ]
  },
  {
   "cell_type": "code",
   "execution_count": null,
   "metadata": {
    "collapsed": true,
    "deletable": true,
    "editable": true
   },
   "outputs": [],
   "source": []
  }
 ],
 "metadata": {
  "kernelspec": {
   "display_name": "Python 3",
   "language": "python",
   "name": "python3"
  },
  "language_info": {
   "codemirror_mode": {
    "name": "ipython",
    "version": 3
   },
   "file_extension": ".py",
   "mimetype": "text/x-python",
   "name": "python",
   "nbconvert_exporter": "python",
   "pygments_lexer": "ipython3",
   "version": "3.6.0"
  }
 },
 "nbformat": 4,
 "nbformat_minor": 0
}
